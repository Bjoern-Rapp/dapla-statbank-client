{
 "cells": [
  {
   "cell_type": "code",
   "execution_count": null,
   "id": "35e7fb45",
   "metadata": {},
   "outputs": [],
   "source": [
    "import os\n",
    "os.chdir(\"../\")"
   ]
  },
  {
   "cell_type": "code",
   "execution_count": null,
   "id": "c4f2ecfc",
   "metadata": {},
   "outputs": [],
   "source": [
    "from statbank import StatbankClient\n",
    "import pandas as pd\n",
    "import dapla as dp"
   ]
  },
  {
   "cell_type": "code",
   "execution_count": null,
   "id": "f8aec733",
   "metadata": {},
   "outputs": [],
   "source": [
    "fileclient = dp.FileClient()\n",
    "statclient = StatbankClient(\"LAST312\")"
   ]
  },
  {
   "cell_type": "code",
   "execution_count": null,
   "id": "b372e5b7",
   "metadata": {},
   "outputs": [],
   "source": [
    "stillnaring_path = \"gs://ssb-staging-dapla-felles-data-delt/dapla-statbank-client-testing/08771_stillnaring1_seksjon312.txt\""
   ]
  },
  {
   "cell_type": "code",
   "execution_count": null,
   "id": "5942dab5",
   "metadata": {},
   "outputs": [],
   "source": [
    "with fileclient.gcs_open(stillnaring_path, \"r\") as stillnaring_fil:\n",
    "    stillnaring = pd.read_csv(stillnaring_fil, sep=\";\", header=None)\n",
    "stillnaring = stillnaring.fillna(\"\")"
   ]
  },
  {
   "cell_type": "code",
   "execution_count": null,
   "id": "6822431d",
   "metadata": {},
   "outputs": [],
   "source": [
    "stillnaring.info()"
   ]
  },
  {
   "cell_type": "code",
   "execution_count": null,
   "id": "28abb8f8",
   "metadata": {},
   "outputs": [],
   "source": [
    "stillnaring.head()"
   ]
  },
  {
   "cell_type": "code",
   "execution_count": null,
   "id": "dda2e0d2",
   "metadata": {},
   "outputs": [],
   "source": [
    "desc = statclient.get_description(\"08771\")"
   ]
  },
  {
   "cell_type": "code",
   "execution_count": null,
   "id": "6bcdb93c",
   "metadata": {},
   "outputs": [],
   "source": [
    "desc.variables"
   ]
  },
  {
   "cell_type": "code",
   "execution_count": null,
   "id": "94af6dee",
   "metadata": {},
   "outputs": [],
   "source": [
    "desc.transferdata_template()"
   ]
  },
  {
   "cell_type": "code",
   "execution_count": null,
   "id": "6946199c",
   "metadata": {},
   "outputs": [],
   "source": [
    "statclient.validate({\"stillnaring1.dat\" : stillnaring,}, \"08771\")"
   ]
  },
  {
   "cell_type": "code",
   "execution_count": null,
   "id": "b380d6f8",
   "metadata": {},
   "outputs": [],
   "source": [
    "statclient.transfer({\"stillnaring1.dat\" : stillnaring,}, \"08771\")"
   ]
  },
  {
   "cell_type": "code",
   "execution_count": null,
   "id": "1b988589",
   "metadata": {},
   "outputs": [],
   "source": []
  }
 ],
 "metadata": {
  "language_info": {
   "codemirror_mode": {
    "name": "ipython"
   },
   "file_extension": ".py",
   "mimetype": "text/x-python",
   "name": "python",
   "nbconvert_exporter": "python"
  }
 },
 "nbformat": 4,
 "nbformat_minor": 5
}
