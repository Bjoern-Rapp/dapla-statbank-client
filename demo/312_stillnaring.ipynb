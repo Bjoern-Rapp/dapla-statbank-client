{
 "cells": [
  {
   "cell_type": "code",
   "execution_count": null,
   "id": "72fead21-2bb5-4d35-9d84-57b703323fed",
   "metadata": {},
   "outputs": [],
   "source": [
    "import os\n",
    "os.chdir(\"../\")"
   ]
  },
  {
   "cell_type": "code",
   "execution_count": null,
   "id": "e2e2200a-fbe6-4560-9f10-dc600265c5e2",
   "metadata": {},
   "outputs": [],
   "source": [
    "from statbank import StatbankClient\n",
    "import pandas as pd\n",
    "import dapla as dp"
   ]
  },
  {
   "cell_type": "code",
   "execution_count": null,
   "id": "ebe95fb1-cfbd-4aa8-a25e-24895983df4a",
   "metadata": {},
   "outputs": [],
   "source": [
    "fileclient = dp.FileClient()\n",
    "statclient = StatbankClient(\"LAST312\")"
   ]
  },
  {
   "cell_type": "code",
   "execution_count": null,
   "id": "c95aceea-a11a-42b7-a549-97fda573c468",
   "metadata": {},
   "outputs": [],
   "source": [
    "stillnaring_path = \"gs://ssb-staging-dapla-felles-data-delt/dapla-statbank-client-testing/08771_stillnaring1_seksjon312.txt\""
   ]
  },
  {
   "cell_type": "code",
   "execution_count": null,
   "id": "c4f7d66f-cf1c-4ed7-bd58-f72e51f7e6d7",
   "metadata": {},
   "outputs": [],
   "source": [
    "with fileclient.gcs_open(stillnaring_path, \"r\") as stillnaring_fil:\n",
    "    stillnaring = pd.read_csv(stillnaring_fil, sep=\";\", header=None)\n",
    "stillnaring = stillnaring.fillna(\"\")"
   ]
  },
  {
   "cell_type": "code",
   "execution_count": null,
   "id": "fb673cfe-3e17-42a9-a8d3-795cc0c1ab9a",
   "metadata": {},
   "outputs": [],
   "source": [
    "stillnaring.info()"
   ]
  },
  {
   "cell_type": "code",
   "execution_count": null,
   "id": "2b3236c0-de47-4c7c-8c93-97322edd8d4b",
   "metadata": {},
   "outputs": [],
   "source": [
    "stillnaring.head()"
   ]
  },
  {
   "cell_type": "code",
   "execution_count": null,
   "id": "5e198e02-b28f-4078-b480-73c4ddcabca7",
   "metadata": {},
   "outputs": [],
   "source": [
    "desc = statclient.get_description(\"08771\")"
   ]
  },
  {
   "cell_type": "code",
   "execution_count": null,
   "id": "2996db2f-1536-437b-b4ff-9f86e1abb626",
   "metadata": {},
   "outputs": [],
   "source": [
    "desc.variables"
   ]
  },
  {
   "cell_type": "code",
   "execution_count": null,
   "id": "e7818398-0eb9-4eeb-b4d7-986be15bd703",
   "metadata": {},
   "outputs": [],
   "source": [
    "desc.transferdata_template()"
   ]
  },
  {
   "cell_type": "code",
   "execution_count": null,
   "id": "a9634653-a3b9-441f-95f8-45045a130ff1",
   "metadata": {},
   "outputs": [],
   "source": [
    "statclient.validate({\"stillnaring1.dat\" : stillnaring,}, \"08771\")"
   ]
  },
  {
   "cell_type": "code",
   "execution_count": null,
   "id": "8cfbbbb2-2622-4347-9160-3f8c7b4f00b6",
   "metadata": {},
   "outputs": [],
   "source": [
    "statclient.transfer({\"stillnaring1.dat\" : stillnaring,}, \"08771\")"
   ]
  },
  {
   "cell_type": "code",
   "execution_count": null,
   "id": "18700713-3a4a-4587-afec-a3853573fcf9",
   "metadata": {},
   "outputs": [],
   "source": []
  }
 ],
 "metadata": {
  "language_info": {
   "codemirror_mode": {
    "name": "ipython"
   },
   "file_extension": ".py",
   "mimetype": "text/x-python",
   "name": "python",
   "nbconvert_exporter": "python"
  }
 },
 "nbformat": 4,
 "nbformat_minor": 5
}
