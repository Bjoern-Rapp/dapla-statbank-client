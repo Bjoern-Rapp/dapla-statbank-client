{
 "cells": [
  {
   "cell_type": "code",
   "execution_count": null,
   "id": "6606ec68-0265-4253-9a58-31fdecf5653d",
   "metadata": {},
   "outputs": [],
   "source": [
    "import pandas as pd\n",
    "import os\n",
    "import dapla as dp\n",
    "orig_dir = os.getcwd()\n",
    "os.chdir(\"dapla-statbank-client\")"
   ]
  },
  {
   "cell_type": "code",
   "execution_count": null,
   "id": "081458be-32f3-4675-9838-3ee7e593a631",
   "metadata": {},
   "outputs": [],
   "source": [
    "from statbank import StatbankClient\n",
    "os.chdir(orig_dir)"
   ]
  },
  {
   "cell_type": "markdown",
   "id": "d843bc4e-2703-4563-b539-4e7ca4e7b7c8",
   "metadata": {},
   "source": [
    "### Create client"
   ]
  },
  {
   "cell_type": "code",
   "execution_count": null,
   "id": "e03529d8-b5a4-493c-87a9-5f7f7d00e1a6",
   "metadata": {},
   "outputs": [],
   "source": [
    "client = StatbankClient(loaduser=\"LAST360\")"
   ]
  },
  {
   "cell_type": "code",
   "execution_count": null,
   "id": "cf9f0b9d-48ac-4ec8-9e7e-0f2df4443320",
   "metadata": {},
   "outputs": [],
   "source": [
    "print(client)"
   ]
  },
  {
   "cell_type": "markdown",
   "id": "68217364-31b6-48f3-b71b-66c32bf0afe7",
   "metadata": {},
   "source": [
    "### Load data"
   ]
  },
  {
   "cell_type": "code",
   "execution_count": null,
   "id": "ce395690-aaff-4c73-aa25-68f5807839ad",
   "metadata": {
    "tags": []
   },
   "outputs": [],
   "source": [
    "#df_06339 = pd.read_parquet(\"06339_statbank.parquet.gzip\")\n",
    "#df_05300 = pd.read_parquet(\"05300_statbank.parquet.gzip\")"
   ]
  },
  {
   "cell_type": "code",
   "execution_count": null,
   "id": "2b787de4-22b5-4cf2-af77-75ba915efe0a",
   "metadata": {},
   "outputs": [],
   "source": [
    "df_07495_fylker = pd.read_parquet(\"07495_statbank_fylker.parquet\")\n",
    "df_07495_landet = pd.read_parquet(\"07495_statbank_landet.parquet\")"
   ]
  },
  {
   "cell_type": "code",
   "execution_count": null,
   "id": "619b92cc-2c92-41b7-8939-4f1a8f7b5d57",
   "metadata": {},
   "outputs": [],
   "source": [
    "df_07495_landet.info()"
   ]
  },
  {
   "cell_type": "code",
   "execution_count": null,
   "id": "e35adbd4-2b8a-44b0-98bf-4add62de40bc",
   "metadata": {},
   "outputs": [],
   "source": [
    "# Type casting everything to string might be a good idea, make sure rounding is like you want it\n",
    "#df_07495_landet = df_07495_landet.astype(str)\n",
    "#df_07495_fylker = df_07495_fylker.astype(str)"
   ]
  },
  {
   "cell_type": "code",
   "execution_count": null,
   "id": "ce3a3ac4-f36b-4b74-ae76-bbe5e54468de",
   "metadata": {},
   "outputs": [],
   "source": [
    "data_07495 = {\"kargrs01fylker1.dat\" : df_07495_fylker,\n",
    "              \"kargrs01landet1.dat\" : df_07495_landet,}"
   ]
  },
  {
   "cell_type": "markdown",
   "id": "f9c10515-ad8f-43b8-930c-952e0a15098f",
   "metadata": {
    "tags": []
   },
   "source": [
    "### Get description"
   ]
  },
  {
   "cell_type": "code",
   "execution_count": null,
   "id": "734d4351-bf71-4730-8c06-2c6424f689a6",
   "metadata": {},
   "outputs": [],
   "source": []
  },
  {
   "cell_type": "code",
   "execution_count": null,
   "id": "8083dc46-e66e-45d7-b107-83678b5ce4f2",
   "metadata": {
    "tags": []
   },
   "outputs": [],
   "source": [
    "filbeskrivelse_08836 = client.get_description(tableid=\"08836\")"
   ]
  },
  {
   "cell_type": "code",
   "execution_count": null,
   "id": "9caaef41-68d5-41a2-9e91-9ca2d04d5c28",
   "metadata": {},
   "outputs": [],
   "source": [
    "filbeskrivelse_08836.variables"
   ]
  },
  {
   "cell_type": "code",
   "execution_count": null,
   "id": "6c33c3c6-6a23-4beb-8c4b-edf141e2bc3f",
   "metadata": {
    "tags": []
   },
   "outputs": [],
   "source": [
    "filbeskrivelse_07495 = client.get_description(tableid=\"07495\")"
   ]
  },
  {
   "cell_type": "code",
   "execution_count": null,
   "id": "b4b8e239-2e7f-45c0-b38f-1154177ca9a9",
   "metadata": {},
   "outputs": [],
   "source": [
    "filbeskrivelse_07495.transferdata_template()"
   ]
  },
  {
   "cell_type": "code",
   "execution_count": null,
   "id": "bbc59687-6d04-4c75-96ca-4abfbeda80de",
   "metadata": {},
   "outputs": [],
   "source": [
    "print(filbeskrivelse_07495)"
   ]
  },
  {
   "cell_type": "code",
   "execution_count": null,
   "id": "cc59e429-cc66-490b-b09c-1938a88079a2",
   "metadata": {},
   "outputs": [],
   "source": [
    "filbeskrivelse_07495.codelists"
   ]
  },
  {
   "cell_type": "markdown",
   "id": "d696ba7e-1c12-4322-8d45-b4715bf25e2f",
   "metadata": {},
   "source": [
    "### Validate data"
   ]
  },
  {
   "cell_type": "code",
   "execution_count": null,
   "id": "b56ce312-b634-443e-882f-d0e9231e5f9a",
   "metadata": {},
   "outputs": [],
   "source": [
    "filbeskrivelse_07495.validate(data_07495)"
   ]
  },
  {
   "cell_type": "markdown",
   "id": "0d8ab0cf-a9dc-488b-acac-557aabb5641f",
   "metadata": {},
   "source": [
    "### Round data"
   ]
  },
  {
   "cell_type": "code",
   "execution_count": null,
   "id": "2e6a8b85-63d3-4321-8ed1-14e420931954",
   "metadata": {},
   "outputs": [],
   "source": [
    "filbeskrivelse_07495.variables"
   ]
  },
  {
   "cell_type": "code",
   "execution_count": null,
   "id": "76e30706-e173-4b7e-8165-f76dd728d498",
   "metadata": {},
   "outputs": [],
   "source": [
    "data_07495[\"kargrs01fylker1.dat\"].dtypes[4]"
   ]
  },
  {
   "cell_type": "code",
   "execution_count": null,
   "id": "1f2d7ffd-ad4d-4e8b-9828-8350e493e19b",
   "metadata": {},
   "outputs": [],
   "source": [
    "data_07495[\"kargrs01fylker1.dat\"]"
   ]
  },
  {
   "cell_type": "code",
   "execution_count": null,
   "id": "d56a8b78-ea27-4d67-b030-ccf9868c0cd6",
   "metadata": {},
   "outputs": [],
   "source": [
    "data_07495 = filbeskrivelse_07495.round_data(data_07495)"
   ]
  },
  {
   "cell_type": "markdown",
   "id": "8550bf8c-c9f8-4c9e-a46b-40fa3a670387",
   "metadata": {
    "tags": []
   },
   "source": [
    "### Transfer (actually sending the data)"
   ]
  },
  {
   "cell_type": "code",
   "execution_count": null,
   "id": "c1492a81-2d1b-4947-a78e-749095e096a6",
   "metadata": {},
   "outputs": [],
   "source": [
    "transfer_07495 = client.transfer(data_07495, \"07495\")"
   ]
  },
  {
   "cell_type": "markdown",
   "id": "9a9e2c73-d631-4fa0-a73f-e21d83dc3257",
   "metadata": {},
   "source": [
    "---"
   ]
  },
  {
   "cell_type": "markdown",
   "id": "1458dfe2-78b8-4150-9ed5-967642ca9f04",
   "metadata": {},
   "source": [
    "## Extra functionality"
   ]
  },
  {
   "cell_type": "markdown",
   "id": "049e450d-3cf3-48f5-814f-03e51fd73669",
   "metadata": {},
   "source": [
    "##### Date-picker"
   ]
  },
  {
   "cell_type": "code",
   "execution_count": null,
   "id": "78c38f09-4568-47dc-b5ea-3b98c2acaaab",
   "metadata": {
    "tags": []
   },
   "outputs": [],
   "source": [
    "date = client.date_picker()"
   ]
  },
  {
   "cell_type": "code",
   "execution_count": null,
   "id": "f1839c0a-5b71-4bb9-858a-84f72ddc97a1",
   "metadata": {
    "tags": []
   },
   "outputs": [],
   "source": [
    "client.set_publish_date(date)"
   ]
  },
  {
   "cell_type": "markdown",
   "id": "0ee49a4e-809b-4d7c-8507-a52047e3a8f4",
   "metadata": {},
   "source": [
    "##### Logging on the client"
   ]
  },
  {
   "cell_type": "code",
   "execution_count": null,
   "id": "d2beadce-8bce-4205-832d-f8f24bd824f3",
   "metadata": {},
   "outputs": [],
   "source": [
    "print(client)"
   ]
  },
  {
   "cell_type": "code",
   "execution_count": null,
   "id": "733aa201-1c84-4d3f-9050-9a676d976b59",
   "metadata": {},
   "outputs": [],
   "source": [
    "client.log"
   ]
  },
  {
   "cell_type": "markdown",
   "id": "82d8880a-4e7c-4125-a6d7-edbc2dcbe8ae",
   "metadata": {},
   "source": [
    "##### Get APIdata"
   ]
  },
  {
   "cell_type": "code",
   "execution_count": null,
   "id": "f808aa5e-cc2f-4621-9cdc-6ae2831e9d38",
   "metadata": {},
   "outputs": [],
   "source": [
    "from statbank import apidata_all"
   ]
  },
  {
   "cell_type": "code",
   "execution_count": null,
   "id": "f6a3b14a-bb54-4292-bc83-04ac3ea73998",
   "metadata": {},
   "outputs": [],
   "source": [
    "apidata_all(\"07495\", include_id=True)"
   ]
  },
  {
   "cell_type": "markdown",
   "id": "08541acc-0788-473e-8339-deb908c22b19",
   "metadata": {},
   "source": [
    "##### Test writing the transfer to json, and reading it back"
   ]
  },
  {
   "cell_type": "code",
   "execution_count": null,
   "id": "15945f83-01d3-4916-b616-5e8e66ff7a93",
   "metadata": {},
   "outputs": [],
   "source": [
    "transfer_07495.to_json(\"transfer_07495.json\")"
   ]
  },
  {
   "cell_type": "code",
   "execution_count": null,
   "id": "d2da17d9-eb4f-4e8f-b5af-6aca93b5615d",
   "metadata": {},
   "outputs": [],
   "source": [
    "print(client.read_transfer_json(\"transfer_07495.json\"))"
   ]
  },
  {
   "cell_type": "code",
   "execution_count": null,
   "id": "1ad1cda1-1d7e-4de8-8dfc-0948d0e76456",
   "metadata": {},
   "outputs": [],
   "source": []
  }
 ],
 "metadata": {
  "language_info": {
   "codemirror_mode": {
    "name": "ipython"
   },
   "file_extension": ".py",
   "mimetype": "text/x-python",
   "name": "python",
   "nbconvert_exporter": "python"
  }
 },
 "nbformat": 4,
 "nbformat_minor": 5
}
