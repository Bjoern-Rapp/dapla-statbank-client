{
 "cells": [
  {
   "cell_type": "code",
   "execution_count": null,
   "id": "4badaf79-1952-473c-a2a9-736dca97ca5b",
   "metadata": {},
   "outputs": [],
   "source": [
    "from statbank import StatbankClient\n",
    "import pandas as pd\n",
    "import dapla as dp\n",
    "from io import StringIO\n",
    "\n",
    "fileclient = dp.FileClient()\n",
    "statclient = StatbankClient(\"LAST214\")"
   ]
  },
  {
   "cell_type": "code",
   "execution_count": null,
   "id": "92f97603-e498-405b-ba74-8b5f70a86447",
   "metadata": {},
   "outputs": [],
   "source": [
    "statclient.apidata_all(\"11721\", include_id=True)"
   ]
  },
  {
   "cell_type": "code",
   "execution_count": null,
   "id": "0211157e-4ec6-4be3-a857-0682c113f2d2",
   "metadata": {},
   "outputs": [],
   "source": [
    "mnr_path = \"gs://ssb-staging-dapla-felles-data-delt/dapla-statbank-client-testing/11721_mnr_seksjon214.csv\"\n",
    "with fileclient.gcs_open(mnr_path, \"rb\") as mnr_fil:\n",
    "    mnr = mnr_fil.read().decode(\"ISO-8859-1\")\n",
    "mnr = pd.read_csv(StringIO(mnr), sep=\";\", index_col=None, header=1)\n",
    "mnr.replace(\"..\", pd.NA)\n",
    "#mnr"
   ]
  },
  {
   "cell_type": "code",
   "execution_count": null,
   "id": "5e198e02-b28f-4078-b480-73c4ddcabca7",
   "metadata": {},
   "outputs": [],
   "source": [
    "desc = statclient.get_description(\"11721\")"
   ]
  },
  {
   "cell_type": "code",
   "execution_count": null,
   "id": "2996db2f-1536-437b-b4ff-9f86e1abb626",
   "metadata": {},
   "outputs": [],
   "source": [
    "total_cols = (len(desc.variables[0]['variabler']) +\n",
    "len(desc.variables[0]['statistikkvariabler']) +\n",
    "len(desc.variables[0]['null_prikk_missing']))"
   ]
  },
  {
   "cell_type": "code",
   "execution_count": null,
   "id": "498d158e-39a7-4b32-9928-a57606467bbb",
   "metadata": {},
   "outputs": [],
   "source": [
    "if len(mnr.columns) != total_cols:\n",
    "    for colnum in range(total_cols - len(mnr.columns)):\n",
    "        mnr[f\"prikkecol_{colnum+1}\"] = \"\"\n",
    "mnr"
   ]
  },
  {
   "cell_type": "code",
   "execution_count": null,
   "id": "e7818398-0eb9-4eeb-b4d7-986be15bd703",
   "metadata": {},
   "outputs": [],
   "source": [
    "#desc.transferdata_template()"
   ]
  },
  {
   "cell_type": "code",
   "execution_count": null,
   "id": "460200bf-7283-4cd9-abf2-00ce08ee9ec8",
   "metadata": {},
   "outputs": [],
   "source": [
    "data = {'knrmakrohovmnd1.dat': mnr}"
   ]
  },
  {
   "cell_type": "code",
   "execution_count": null,
   "id": "a9634653-a3b9-441f-95f8-45045a130ff1",
   "metadata": {},
   "outputs": [],
   "source": [
    "errors = statclient.validate(data, \"11721\", printing=False)"
   ]
  },
  {
   "cell_type": "code",
   "execution_count": null,
   "id": "efb1634b-bbcb-448e-8c04-d68593fb1df9",
   "metadata": {},
   "outputs": [],
   "source": [
    "errors.keys()"
   ]
  },
  {
   "cell_type": "code",
   "execution_count": null,
   "id": "3be64eed-f8d1-4fde-95b9-3e1cf6412868",
   "metadata": {},
   "outputs": [],
   "source": [
    "for err in [v for k,v in errors.items() if \"categorycode_outside\" in k][0].args[0]: print(err)"
   ]
  },
  {
   "cell_type": "code",
   "execution_count": null,
   "id": "3ae19420-a456-4304-a6e3-8849caeb5996",
   "metadata": {},
   "outputs": [],
   "source": [
    "for err in [v for k,v in errors.items() if \"floats\" in k]: print(err)"
   ]
  },
  {
   "cell_type": "code",
   "execution_count": null,
   "id": "3db095f0-8ee3-4921-9721-dc17e4f51ee1",
   "metadata": {},
   "outputs": [],
   "source": [
    "for err in [v for k,v in errors.items() if \"rounding\" in k]: print(err)"
   ]
  },
  {
   "cell_type": "code",
   "execution_count": null,
   "id": "8cfbbbb2-2622-4347-9160-3f8c7b4f00b6",
   "metadata": {},
   "outputs": [],
   "source": [
    "statclient.transfer(data, \"11721\")"
   ]
  }
 ],
 "metadata": {
  "language_info": {
   "codemirror_mode": {
    "name": "ipython"
   },
   "file_extension": ".py",
   "mimetype": "text/x-python",
   "name": "python",
   "nbconvert_exporter": "python"
  }
 },
 "nbformat": 4,
 "nbformat_minor": 5
}
