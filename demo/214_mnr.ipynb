{
 "cells": [
  {
   "cell_type": "code",
   "execution_count": null,
   "id": "1fd87418-31cb-40f1-a63c-bf0fd0163ffa",
   "metadata": {},
   "outputs": [],
   "source": [
    "from statbank import StatbankClient\n",
    "import pandas as pd\n",
    "import dapla as dp\n",
    "from io import StringIO\n",
    "\n",
    "fileclient = dp.FileClient()\n",
    "statclient = StatbankClient(\"LAST214\")\n",
    "\n",
    "mnr_path = \"gs://ssb-staging-dapla-felles-data-delt/dapla-statbank-client-testing/11721_mnr_seksjon214.csv\"\n",
    "\n",
    "with fileclient.gcs_open(mnr_path, \"rb\") as mnr_fil:\n",
    "    mnr = mnr_fil.read().decode(\"ISO-8859-1\")\n",
    "\n",
    "mnr = pd.read_csv(StringIO(mnr), sep=\";\", index_col=None)\n",
    "\n",
    "mnr.iloc[:,0].reset_index()"
   ]
  },
  {
   "cell_type": "code",
   "execution_count": null,
   "id": "5e198e02-b28f-4078-b480-73c4ddcabca7",
   "metadata": {},
   "outputs": [],
   "source": [
    "desc = statclient.get_description(\"11721\")"
   ]
  },
  {
   "cell_type": "code",
   "execution_count": null,
   "id": "2996db2f-1536-437b-b4ff-9f86e1abb626",
   "metadata": {},
   "outputs": [],
   "source": [
    "desc.variables"
   ]
  },
  {
   "cell_type": "code",
   "execution_count": null,
   "id": "e7818398-0eb9-4eeb-b4d7-986be15bd703",
   "metadata": {},
   "outputs": [],
   "source": [
    "desc.transferdata_template()"
   ]
  },
  {
   "cell_type": "code",
   "execution_count": null,
   "id": "a9634653-a3b9-441f-95f8-45045a130ff1",
   "metadata": {},
   "outputs": [],
   "source": [
    "statclient.validate({\"stillnaring1.dat\" : stillnaring,}, \"08771\")"
   ]
  },
  {
   "cell_type": "code",
   "execution_count": null,
   "id": "8cfbbbb2-2622-4347-9160-3f8c7b4f00b6",
   "metadata": {},
   "outputs": [],
   "source": [
    "statclient.transfer({\"stillnaring1.dat\" : stillnaring,}, \"08771\")"
   ]
  }
 ],
 "metadata": {
  "language_info": {
   "codemirror_mode": {
    "name": "ipython"
   },
   "file_extension": ".py",
   "mimetype": "text/x-python",
   "name": "python",
   "nbconvert_exporter": "python"
  }
 },
 "nbformat": 4,
 "nbformat_minor": 5
}
