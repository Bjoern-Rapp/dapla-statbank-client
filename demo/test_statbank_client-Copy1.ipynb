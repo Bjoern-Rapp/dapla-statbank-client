{
 "cells": [
  {
   "cell_type": "code",
   "execution_count": null,
   "id": "4455ee2c-baa4-401f-85d6-a2d2010979bc",
   "metadata": {},
   "outputs": [],
   "source": [
    "import pandas as pd\n",
    "import datetime\n",
    "import os\n",
    "orig_dir = os.getcwd()\n",
    "os.chdir(\"../\")"
   ]
  },
  {
   "cell_type": "code",
   "execution_count": 4,
   "id": "081458be-32f3-4675-9838-3ee7e593a631",
   "metadata": {},
   "outputs": [],
   "source": [
    "from statbank import StatbankClient\n",
    "os.chdir(orig_dir)"
   ]
  },
  {
   "cell_type": "markdown",
   "id": "d843bc4e-2703-4563-b539-4e7ca4e7b7c8",
   "metadata": {},
   "source": [
    "### Opprett client"
   ]
  },
  {
   "cell_type": "code",
   "execution_count": 5,
   "id": "e03529d8-b5a4-493c-87a9-5f7f7d00e1a6",
   "metadata": {},
   "outputs": [
    {
     "name": "stdin",
     "output_type": "stream",
     "text": [
      "Lastepassord (TEST): ········\n"
     ]
    }
   ],
   "source": [
    "client = StatbankClient(loaduser = \"LAST360\")"
   ]
  },
  {
   "cell_type": "code",
   "execution_count": 4,
   "id": "78c38f09-4568-47dc-b5ea-3b98c2acaaab",
   "metadata": {
    "tags": []
   },
   "outputs": [
    {
     "data": {
      "application/vnd.jupyter.widget-view+json": {
       "model_id": "1aa9a138b5344365bec378c8b0685a9b",
       "version_major": 2,
       "version_minor": 0
      },
      "text/plain": [
       "DatePicker(value=datetime.datetime(2022, 10, 25, 9, 54, 51, 501599), description='Publish-date', step=1)"
      ]
     },
     "metadata": {},
     "output_type": "display_data"
    }
   ],
   "source": [
    "date = client.date_picker()"
   ]
  },
  {
   "cell_type": "code",
   "execution_count": 5,
   "id": "f1839c0a-5b71-4bb9-858a-84f72ddc97a1",
   "metadata": {
    "tags": []
   },
   "outputs": [
    {
     "name": "stdout",
     "output_type": "stream",
     "text": [
      "Publishing date set to: 2022-10-26\n"
     ]
    }
   ],
   "source": [
    "client.set_publish_date(date)"
   ]
  },
  {
   "cell_type": "markdown",
   "id": "0b4e2d60-7663-4340-923e-2e066ad60ea6",
   "metadata": {},
   "source": [
    "### Hent filbeskrivelse"
   ]
  },
  {
   "cell_type": "code",
   "execution_count": 6,
   "id": "8083dc46-e66e-45d7-b107-83678b5ce4f2",
   "metadata": {
    "tags": []
   },
   "outputs": [
    {
     "name": "stdout",
     "output_type": "stream",
     "text": [
      "Hentet uttaksbeskrivelsen for MedlemKristTrus, \n",
      "        med tabellid: 06339\n",
      "        den 24.10.2022 klokka 09:55\n"
     ]
    }
   ],
   "source": [
    "filbeskrivelse = client.get_description(tableid=\"06339\")"
   ]
  },
  {
   "cell_type": "code",
   "execution_count": 7,
   "id": "6d5d33b5-af86-4c48-a15e-d4c000e9c013",
   "metadata": {},
   "outputs": [
    {
     "name": "stdout",
     "output_type": "stream",
     "text": [
      "Uttrekksbeskrivelse for statbanktabell 06339. \n",
      "        loaduser: LAST360. \n",
      "        \n",
      "        Hele filbeskrivelsen \"rå\" ligger under .filbeskrivelse\n",
      "        Andre attributter: \n",
      "        .deltabelltitler, .kodelister, .prikking, .variabler\n",
      "\n",
      "Deltabell (DataFrame) nummer 1: medlemkristtrus1.dat\n",
      "Antall kolonner: 3\n",
      "\tKolonne 1: Kristne trussamfunn\n",
      "\tKolonne 2: Tidsperioden for tabelldataene, enhet = år, format = åååå\n",
      "\tKolonne 3: Medlemmer i kristne trus- og livssynssamfunn\n",
      "Eksempellinje: 999;2020;3\n",
      "        \n"
     ]
    }
   ],
   "source": [
    "print(filbeskrivelse)"
   ]
  },
  {
   "cell_type": "code",
   "execution_count": 8,
   "id": "5c63b597-545e-41b7-a24f-346b07b755ed",
   "metadata": {},
   "outputs": [
    {
     "name": "stdout",
     "output_type": "stream",
     "text": [
      "Hentet uttaksbeskrivelsen for MedlemKristTrus, \n",
      "        med tabellid: 06339\n",
      "        den 24.10.2022 klokka 09:58\n",
      "Hentet uttaksbeskrivelsen for Kulturbaromet58, \n",
      "        med tabellid: 05300\n",
      "        den 24.10.2022 klokka 09:58\n"
     ]
    }
   ],
   "source": [
    "filbeskrivelser = client.get_description_batch(tableids=[\"06339\", \"05300\"])"
   ]
  },
  {
   "cell_type": "code",
   "execution_count": 9,
   "id": "55a09674-6c2c-438c-bcaf-1bc95d33a08c",
   "metadata": {},
   "outputs": [
    {
     "name": "stdout",
     "output_type": "stream",
     "text": [
      "Uttrekksbeskrivelse for statbanktabell 05300. \n",
      "        loaduser: LAST360. \n",
      "        \n",
      "        Hele filbeskrivelsen \"rå\" ligger under .filbeskrivelse\n",
      "        Andre attributter: \n",
      "        .deltabelltitler, .kodelister, .prikking, .variabler\n",
      "\n",
      "Deltabell (DataFrame) nummer 1: kulturbaromet581.dat\n",
      "Antall kolonner: 5\n",
      "\tKolonne 1: Avstand til kulturtilbud\n",
      "\tKolonne 2: Ulike kulturtilbud\n",
      "\tKolonne 3: Tidsperioden for tabelldataene, enhet = år, format = åååå\n",
      "\tKolonne 4: Avstand til nærmeste lokale/sted\n",
      "\tKolonne 5: Prikking for kolonne 4: Avstand\n",
      "Eksempellinje: 06;08;2021;4;\n",
      "        \n"
     ]
    }
   ],
   "source": [
    "print(filbeskrivelser[\"05300\"])"
   ]
  },
  {
   "cell_type": "markdown",
   "id": "c6d6daea-48fb-4390-bc75-25e98dace1ff",
   "metadata": {},
   "source": [
    "### Konstruer data"
   ]
  },
  {
   "cell_type": "code",
   "execution_count": 10,
   "id": "e173ee56-578d-4536-8c6b-dabb93345b78",
   "metadata": {},
   "outputs": [
    {
     "data": {
      "text/plain": [
       "pandas.core.frame.DataFrame"
      ]
     },
     "execution_count": 10,
     "metadata": {},
     "output_type": "execute_result"
    }
   ],
   "source": [
    "dfs_06339 = pd.read_parquet(\"06339_statbank.parquet.gzip\")\n",
    "type(dfs_06339)"
   ]
  },
  {
   "cell_type": "code",
   "execution_count": 11,
   "id": "da24a723-c440-4c53-89cc-db468fa5c74f",
   "metadata": {},
   "outputs": [
    {
     "data": {
      "text/plain": [
       "pandas.core.frame.DataFrame"
      ]
     },
     "execution_count": 11,
     "metadata": {},
     "output_type": "execute_result"
    }
   ],
   "source": [
    "dfs_05300 = pd.read_parquet(\"05300_statbank.parquet.gzip\")\n",
    "type(dfs_05300)"
   ]
  },
  {
   "cell_type": "markdown",
   "id": "e0735b6e-c1eb-47dc-89e6-565102205050",
   "metadata": {},
   "source": [
    "### Valider data"
   ]
  },
  {
   "cell_type": "code",
   "execution_count": 12,
   "id": "8b2d3853-92c6-4e9e-b24f-4df5f7d9b765",
   "metadata": {},
   "outputs": [
    {
     "name": "stdout",
     "output_type": "stream",
     "text": [
      "Hentet uttaksbeskrivelsen for MedlemKristTrus, \n",
      "        med tabellid: 06339\n",
      "        den 24.10.2022 klokka 09:58\n",
      "\n",
      "validating...\n",
      "Correct number of DataFrames passed.\n",
      "Correct number of columns...\n",
      "No codes in categorical columns outside codelist.\n",
      "No codes missing from categorical columns.\n",
      "Timeformat validation ok.\n",
      "Prikking-codes validation ok / No prikke-columns in use.\n",
      "\n"
     ]
    }
   ],
   "source": [
    "client.validate(dfs_06339, \"06339\")"
   ]
  },
  {
   "cell_type": "code",
   "execution_count": 13,
   "id": "09cfb5f9-9919-42e7-ad71-42da7431a9a1",
   "metadata": {},
   "outputs": [
    {
     "name": "stdout",
     "output_type": "stream",
     "text": [
      "Hentet uttaksbeskrivelsen for MedlemKristTrus, \n",
      "        med tabellid: 06339\n",
      "        den 24.10.2022 klokka 09:58\n",
      "\n",
      "validating...\n",
      "Correct number of DataFrames passed.\n",
      "Correct number of columns...\n",
      "No codes in categorical columns outside codelist.\n",
      "No codes missing from categorical columns.\n",
      "Timeformat validation ok.\n",
      "Prikking-codes validation ok / No prikke-columns in use.\n",
      "\n",
      "Hentet uttaksbeskrivelsen for Kulturbaromet58, \n",
      "        med tabellid: 05300\n",
      "        den 24.10.2022 klokka 09:58\n",
      "\n",
      "validating...\n",
      "Correct number of DataFrames passed.\n",
      "Correct number of columns...\n",
      "No codes in categorical columns outside codelist.\n",
      "Category codes missing from data (This is ok, just make sure missing data is intentional):\n",
      "Code 02 missing from column number 1, in deltabell number 1, (kulturbaromet581.dat)\n",
      "Code 03 missing from column number 1, in deltabell number 1, (kulturbaromet581.dat)\n",
      "Code 08 missing from column number 2, in deltabell number 1, (kulturbaromet581.dat)\n",
      "\n",
      "Timeformat validation ok.\n",
      "Prikking-codes validation ok / No prikke-columns in use.\n",
      "\n"
     ]
    }
   ],
   "source": [
    "client.validate_batch({\n",
    "    \"06339\": dfs_06339,\n",
    "    \"05300\": dfs_05300, \n",
    "})"
   ]
  },
  {
   "cell_type": "code",
   "execution_count": 14,
   "id": "053ec34b-cd7b-41ec-ae14-7633d80cfe62",
   "metadata": {},
   "outputs": [
    {
     "name": "stdout",
     "output_type": "stream",
     "text": [
      "Avstand\n",
      "01 Under 1 km\n",
      "02 1-4,9 km\n",
      "03 5-9,9 km\n",
      "04 10-24 km\n",
      "05 25-49 km\n",
      "06 50 km eller over\n",
      "\n",
      "UlikeKulturtilbud\n",
      "01 Kino/lokale som brukes til kinoforestillinger\n",
      "02 Teater/lokale som brukes til teaterforestillinger\n",
      "03 Konsertsal/lokale som brukes til konserter\n",
      "04 Galleri/kunstsamling\n",
      "05 Museum\n",
      "06 Idrettsplass/idrettshall\n",
      "07 Bibliotek/offentlig boksamling\n",
      "08 Bokhandel\n",
      "\n"
     ]
    }
   ],
   "source": [
    "# Forbedringsforslag å slå opp disse?\n",
    "for koder in filbeskrivelser[\"05300\"].kodelister:\n",
    "    print(koder['kodeliste'])\n",
    "    for kode in koder['koder']:\n",
    "        print(kode[\"kode\"], kode[\"text\"])\n",
    "    print()"
   ]
  },
  {
   "cell_type": "markdown",
   "id": "9ba4cbec-76c1-46d2-afb0-84f9756c3927",
   "metadata": {},
   "source": [
    "### Transfer data"
   ]
  },
  {
   "cell_type": "code",
   "execution_count": 15,
   "id": "60891453-7293-492f-8004-3eccb6a9741c",
   "metadata": {},
   "outputs": [
    {
     "name": "stdout",
     "output_type": "stream",
     "text": [
      "Hentet uttaksbeskrivelsen for MedlemKristTrus, \n",
      "        med tabellid: 06339\n",
      "        den 24.10.2022 klokka 09:59\n",
      "\n",
      "validating...\n",
      "Correct number of DataFrames passed.\n",
      "Correct number of columns...\n",
      "No codes in categorical columns outside codelist.\n",
      "No codes missing from categorical columns.\n",
      "Timeformat validation ok.\n",
      "Prikking-codes validation ok / No prikke-columns in use.\n",
      "\n",
      "<Response [200]>\n",
      "Publisering satt til: 2022-10-26 08:00\n",
      "Følg med på lasteloggen (tar noen minutter): https://i.test.ssb.no/lastelogg/gui/197921\n",
      "Og evt APIen?: https://i.test.ssb.no/lastelogg/api/197921\n"
     ]
    }
   ],
   "source": [
    "transfer = client.transfer(dfs_06339, \"06339\")"
   ]
  },
  {
   "cell_type": "code",
   "execution_count": 16,
   "id": "03d2e4e8-0450-40bb-b3e5-f3c0d74d1ade",
   "metadata": {},
   "outputs": [
    {
     "name": "stdout",
     "output_type": "stream",
     "text": [
      "Overføring for statbanktabell 06339. \n",
      "    loaduser: LAST360.\n",
      "    Publisering: 2022-10-26.\n",
      "    Lastelogg: https://i.test.ssb.no/lastelogg/gui/197921\n"
     ]
    }
   ],
   "source": [
    "print(transfer)"
   ]
  },
  {
   "cell_type": "code",
   "execution_count": 27,
   "id": "ea38c65b-c694-4c82-9501-2cc26cca4e0c",
   "metadata": {},
   "outputs": [],
   "source": [
    "# Headers skal være slettet fra transfer-objektet, selv om den ligger i clienten.\n",
    "#transfer.response.request.__dict__"
   ]
  },
  {
   "cell_type": "code",
   "execution_count": 28,
   "id": "7db97ab6-4667-4dfb-98f0-50a56a8926ff",
   "metadata": {},
   "outputs": [
    {
     "name": "stdout",
     "output_type": "stream",
     "text": [
      "Hentet uttaksbeskrivelsen for MedlemKristTrus, \n",
      "        med tabellid: 06339\n",
      "        den 24.10.2022 klokka 10:01\n",
      "\n",
      "validating...\n",
      "Correct number of DataFrames passed.\n",
      "Correct number of columns...\n",
      "No codes in categorical columns outside codelist.\n",
      "No codes missing from categorical columns.\n",
      "Timeformat validation ok.\n",
      "Prikking-codes validation ok / No prikke-columns in use.\n",
      "\n",
      "<Response [200]>\n",
      "Publisering satt til: 2022-10-26 08:00\n",
      "Følg med på lasteloggen (tar noen minutter): https://i.test.ssb.no/lastelogg/gui/197922\n",
      "Og evt APIen?: https://i.test.ssb.no/lastelogg/api/197922\n",
      "Hentet uttaksbeskrivelsen for Kulturbaromet58, \n",
      "        med tabellid: 05300\n",
      "        den 24.10.2022 klokka 10:01\n",
      "\n",
      "validating...\n",
      "Correct number of DataFrames passed.\n",
      "Correct number of columns...\n",
      "No codes in categorical columns outside codelist.\n",
      "Category codes missing from data (This is ok, just make sure missing data is intentional):\n",
      "Code 02 missing from column number 1, in deltabell number 1, (kulturbaromet581.dat)\n",
      "Code 03 missing from column number 1, in deltabell number 1, (kulturbaromet581.dat)\n",
      "Code 08 missing from column number 2, in deltabell number 1, (kulturbaromet581.dat)\n",
      "\n",
      "Timeformat validation ok.\n",
      "Prikking-codes validation ok / No prikke-columns in use.\n",
      "\n",
      "<Response [200]>\n",
      "Publisering satt til: 2022-10-26 08:00\n",
      "Følg med på lasteloggen (tar noen minutter): https://i.test.ssb.no/lastelogg/gui/197923\n",
      "Og evt APIen?: https://i.test.ssb.no/lastelogg/api/197923\n"
     ]
    }
   ],
   "source": [
    "# Vent litt, ellers kræsjer den med forrige overføring\n",
    "transfer_batch = client.transfer_batch({\n",
    "    \"06339\": dfs_06339,\n",
    "    \"05300\": dfs_05300,\n",
    "})"
   ]
  },
  {
   "cell_type": "code",
   "execution_count": 29,
   "id": "7e1bdb4a-ae16-4e2e-bfd4-9faf05dafe45",
   "metadata": {},
   "outputs": [
    {
     "name": "stdout",
     "output_type": "stream",
     "text": [
      "StatbankTransfer([data], tabellid=\"06339\", loaduser=\"LAST360\")\n",
      "StatbankTransfer([data], tabellid=\"05300\", loaduser=\"LAST360\")\n"
     ]
    }
   ],
   "source": [
    "for transfer in transfer_batch.values():\n",
    "    print(repr(transfer))"
   ]
  },
  {
   "cell_type": "markdown",
   "id": "0d8ab0cf-a9dc-488b-acac-557aabb5641f",
   "metadata": {},
   "source": [
    "### Logging"
   ]
  },
  {
   "cell_type": "code",
   "execution_count": 30,
   "id": "d2beadce-8bce-4205-832d-f8f24bd824f3",
   "metadata": {},
   "outputs": [
    {
     "name": "stdout",
     "output_type": "stream",
     "text": [
      "StatbankClient for user LAST360\n",
      "        Publishing at 2022-10-26\n",
      "        Shortuser cfc\n",
      "        Sending mail to cfc\n",
      "        And sending mail to cfc\n",
      "        Overwrite set to True\n",
      "        Approve set to 2\n",
      "        Validation set to True\n",
      "        \n",
      "        Log:\n",
      "        Datepicker created at 2022-10-24 09:55\n",
      "\tDate set to 2022-10-26 at 2022-10-24 09:55\n",
      "\tGetting description for tableid 06339 at 2022-10-24 09:55\n",
      "\tGot description for tableid 06339 at 2022-10-24 09:58\n",
      "\tGot description for tableid 05300 at 2022-10-24 09:58\n",
      "\tValidated data for tableid 06339 at 2022-10-24 09:58\n",
      "\tValidated data for tableid 06339 at 2022-10-24 09:58\n",
      "\tValidated data for tableid 05300 at 2022-10-24 09:58\n",
      "\tTransferring tableid 06339 at 2022-10-24 09:59\n",
      "\tTransferred tableid 06339 at 2022-10-24 10:01\n",
      "\tTransferred tableid 05300 at 2022-10-24 10:01\n"
     ]
    }
   ],
   "source": [
    "print(client)"
   ]
  },
  {
   "cell_type": "code",
   "execution_count": 31,
   "id": "733aa201-1c84-4d3f-9050-9a676d976b59",
   "metadata": {},
   "outputs": [
    {
     "data": {
      "text/plain": [
       "['Datepicker created at 2022-10-24 09:55',\n",
       " 'Date set to 2022-10-26 at 2022-10-24 09:55',\n",
       " 'Getting description for tableid 06339 at 2022-10-24 09:55',\n",
       " 'Got description for tableid 06339 at 2022-10-24 09:58',\n",
       " 'Got description for tableid 05300 at 2022-10-24 09:58',\n",
       " 'Validated data for tableid 06339 at 2022-10-24 09:58',\n",
       " 'Validated data for tableid 06339 at 2022-10-24 09:58',\n",
       " 'Validated data for tableid 05300 at 2022-10-24 09:58',\n",
       " 'Transferring tableid 06339 at 2022-10-24 09:59',\n",
       " 'Transferred tableid 06339 at 2022-10-24 10:01',\n",
       " 'Transferred tableid 05300 at 2022-10-24 10:01']"
      ]
     },
     "execution_count": 31,
     "metadata": {},
     "output_type": "execute_result"
    }
   ],
   "source": [
    "client.log"
   ]
  },
  {
   "cell_type": "markdown",
   "id": "f80b32f2-5c2d-4762-8b1f-8784a1f2677c",
   "metadata": {},
   "source": [
    "### Apidata kan hentes fra under clienten"
   ]
  },
  {
   "cell_type": "code",
   "execution_count": 6,
   "id": "c28ade8e-2732-4527-b8d2-27a6b19e26cf",
   "metadata": {},
   "outputs": [
    {
     "name": "stdout",
     "output_type": "stream",
     "text": [
      "https://data.ssb.no/api/v0/no/table/05300/\n"
     ]
    },
    {
     "data": {
      "text/html": [
       "<div>\n",
       "<style scoped>\n",
       "    .dataframe tbody tr th:only-of-type {\n",
       "        vertical-align: middle;\n",
       "    }\n",
       "\n",
       "    .dataframe tbody tr th {\n",
       "        vertical-align: top;\n",
       "    }\n",
       "\n",
       "    .dataframe thead th {\n",
       "        text-align: right;\n",
       "    }\n",
       "</style>\n",
       "<table border=\"1\" class=\"dataframe\">\n",
       "  <thead>\n",
       "    <tr style=\"text-align: right;\">\n",
       "      <th></th>\n",
       "      <th>avstand</th>\n",
       "      <th>kulturtilbud</th>\n",
       "      <th>statistikkvariabel</th>\n",
       "      <th>år</th>\n",
       "      <th>value</th>\n",
       "    </tr>\n",
       "  </thead>\n",
       "  <tbody>\n",
       "    <tr>\n",
       "      <th>0</th>\n",
       "      <td>Under 1 km</td>\n",
       "      <td>Kino eller lokale med jevnlig spillefilmframvi...</td>\n",
       "      <td>Avstand til nærmeste lokale/sted</td>\n",
       "      <td>1991</td>\n",
       "      <td>16</td>\n",
       "    </tr>\n",
       "    <tr>\n",
       "      <th>1</th>\n",
       "      <td>Under 1 km</td>\n",
       "      <td>Kino eller lokale med jevnlig spillefilmframvi...</td>\n",
       "      <td>Avstand til nærmeste lokale/sted</td>\n",
       "      <td>1994</td>\n",
       "      <td>14</td>\n",
       "    </tr>\n",
       "    <tr>\n",
       "      <th>2</th>\n",
       "      <td>Under 1 km</td>\n",
       "      <td>Kino eller lokale med jevnlig spillefilmframvi...</td>\n",
       "      <td>Avstand til nærmeste lokale/sted</td>\n",
       "      <td>1997</td>\n",
       "      <td>12</td>\n",
       "    </tr>\n",
       "    <tr>\n",
       "      <th>3</th>\n",
       "      <td>Under 1 km</td>\n",
       "      <td>Kino eller lokale med jevnlig spillefilmframvi...</td>\n",
       "      <td>Avstand til nærmeste lokale/sted</td>\n",
       "      <td>2000</td>\n",
       "      <td>12</td>\n",
       "    </tr>\n",
       "    <tr>\n",
       "      <th>4</th>\n",
       "      <td>Under 1 km</td>\n",
       "      <td>Kino eller lokale med jevnlig spillefilmframvi...</td>\n",
       "      <td>Avstand til nærmeste lokale/sted</td>\n",
       "      <td>2004</td>\n",
       "      <td>11</td>\n",
       "    </tr>\n",
       "    <tr>\n",
       "      <th>...</th>\n",
       "      <td>...</td>\n",
       "      <td>...</td>\n",
       "      <td>...</td>\n",
       "      <td>...</td>\n",
       "      <td>...</td>\n",
       "    </tr>\n",
       "    <tr>\n",
       "      <th>427</th>\n",
       "      <td>50 km eller over</td>\n",
       "      <td>Bokhandel</td>\n",
       "      <td>Avstand til nærmeste lokale/sted</td>\n",
       "      <td>2004</td>\n",
       "      <td>3</td>\n",
       "    </tr>\n",
       "    <tr>\n",
       "      <th>428</th>\n",
       "      <td>50 km eller over</td>\n",
       "      <td>Bokhandel</td>\n",
       "      <td>Avstand til nærmeste lokale/sted</td>\n",
       "      <td>2008</td>\n",
       "      <td>3</td>\n",
       "    </tr>\n",
       "    <tr>\n",
       "      <th>429</th>\n",
       "      <td>50 km eller over</td>\n",
       "      <td>Bokhandel</td>\n",
       "      <td>Avstand til nærmeste lokale/sted</td>\n",
       "      <td>2012</td>\n",
       "      <td>3</td>\n",
       "    </tr>\n",
       "    <tr>\n",
       "      <th>430</th>\n",
       "      <td>50 km eller over</td>\n",
       "      <td>Bokhandel</td>\n",
       "      <td>Avstand til nærmeste lokale/sted</td>\n",
       "      <td>2016</td>\n",
       "      <td>2</td>\n",
       "    </tr>\n",
       "    <tr>\n",
       "      <th>431</th>\n",
       "      <td>50 km eller over</td>\n",
       "      <td>Bokhandel</td>\n",
       "      <td>Avstand til nærmeste lokale/sted</td>\n",
       "      <td>2021</td>\n",
       "      <td>&lt;NA&gt;</td>\n",
       "    </tr>\n",
       "  </tbody>\n",
       "</table>\n",
       "<p>432 rows × 5 columns</p>\n",
       "</div>"
      ],
      "text/plain": [
       "              avstand                                       kulturtilbud  \\\n",
       "0          Under 1 km  Kino eller lokale med jevnlig spillefilmframvi...   \n",
       "1          Under 1 km  Kino eller lokale med jevnlig spillefilmframvi...   \n",
       "2          Under 1 km  Kino eller lokale med jevnlig spillefilmframvi...   \n",
       "3          Under 1 km  Kino eller lokale med jevnlig spillefilmframvi...   \n",
       "4          Under 1 km  Kino eller lokale med jevnlig spillefilmframvi...   \n",
       "..                ...                                                ...   \n",
       "427  50 km eller over                                          Bokhandel   \n",
       "428  50 km eller over                                          Bokhandel   \n",
       "429  50 km eller over                                          Bokhandel   \n",
       "430  50 km eller over                                          Bokhandel   \n",
       "431  50 km eller over                                          Bokhandel   \n",
       "\n",
       "                   statistikkvariabel    år  value  \n",
       "0    Avstand til nærmeste lokale/sted  1991     16  \n",
       "1    Avstand til nærmeste lokale/sted  1994     14  \n",
       "2    Avstand til nærmeste lokale/sted  1997     12  \n",
       "3    Avstand til nærmeste lokale/sted  2000     12  \n",
       "4    Avstand til nærmeste lokale/sted  2004     11  \n",
       "..                                ...   ...    ...  \n",
       "427  Avstand til nærmeste lokale/sted  2004      3  \n",
       "428  Avstand til nærmeste lokale/sted  2008      3  \n",
       "429  Avstand til nærmeste lokale/sted  2012      3  \n",
       "430  Avstand til nærmeste lokale/sted  2016      2  \n",
       "431  Avstand til nærmeste lokale/sted  2021   <NA>  \n",
       "\n",
       "[432 rows x 5 columns]"
      ]
     },
     "execution_count": 6,
     "metadata": {},
     "output_type": "execute_result"
    }
   ],
   "source": [
    "client.apidata_all(\"05300\")"
   ]
  },
  {
   "cell_type": "markdown",
   "id": "0080693d-3809-4fdb-9956-6d707482f0bd",
   "metadata": {
    "tags": []
   },
   "source": [
    "#### Men kan også importeres seperat, krever da ikke passord"
   ]
  },
  {
   "cell_type": "code",
   "execution_count": 8,
   "id": "c1aa698a-bcbc-4dc8-b914-a57c9827bee7",
   "metadata": {},
   "outputs": [],
   "source": [
    "from statbank.apidata import apidata_all"
   ]
  },
  {
   "cell_type": "code",
   "execution_count": 9,
   "id": "b6120ff7-5f7a-4e63-bbad-74cb52a92d32",
   "metadata": {},
   "outputs": [
    {
     "name": "stdout",
     "output_type": "stream",
     "text": [
      "https://data.ssb.no/api/v0/no/table/05300/\n"
     ]
    },
    {
     "data": {
      "text/html": [
       "<div>\n",
       "<style scoped>\n",
       "    .dataframe tbody tr th:only-of-type {\n",
       "        vertical-align: middle;\n",
       "    }\n",
       "\n",
       "    .dataframe tbody tr th {\n",
       "        vertical-align: top;\n",
       "    }\n",
       "\n",
       "    .dataframe thead th {\n",
       "        text-align: right;\n",
       "    }\n",
       "</style>\n",
       "<table border=\"1\" class=\"dataframe\">\n",
       "  <thead>\n",
       "    <tr style=\"text-align: right;\">\n",
       "      <th></th>\n",
       "      <th>avstand</th>\n",
       "      <th>kulturtilbud</th>\n",
       "      <th>statistikkvariabel</th>\n",
       "      <th>år</th>\n",
       "      <th>value</th>\n",
       "    </tr>\n",
       "  </thead>\n",
       "  <tbody>\n",
       "    <tr>\n",
       "      <th>0</th>\n",
       "      <td>Under 1 km</td>\n",
       "      <td>Kino eller lokale med jevnlig spillefilmframvi...</td>\n",
       "      <td>Avstand til nærmeste lokale/sted</td>\n",
       "      <td>1991</td>\n",
       "      <td>16</td>\n",
       "    </tr>\n",
       "    <tr>\n",
       "      <th>1</th>\n",
       "      <td>Under 1 km</td>\n",
       "      <td>Kino eller lokale med jevnlig spillefilmframvi...</td>\n",
       "      <td>Avstand til nærmeste lokale/sted</td>\n",
       "      <td>1994</td>\n",
       "      <td>14</td>\n",
       "    </tr>\n",
       "    <tr>\n",
       "      <th>2</th>\n",
       "      <td>Under 1 km</td>\n",
       "      <td>Kino eller lokale med jevnlig spillefilmframvi...</td>\n",
       "      <td>Avstand til nærmeste lokale/sted</td>\n",
       "      <td>1997</td>\n",
       "      <td>12</td>\n",
       "    </tr>\n",
       "    <tr>\n",
       "      <th>3</th>\n",
       "      <td>Under 1 km</td>\n",
       "      <td>Kino eller lokale med jevnlig spillefilmframvi...</td>\n",
       "      <td>Avstand til nærmeste lokale/sted</td>\n",
       "      <td>2000</td>\n",
       "      <td>12</td>\n",
       "    </tr>\n",
       "    <tr>\n",
       "      <th>4</th>\n",
       "      <td>Under 1 km</td>\n",
       "      <td>Kino eller lokale med jevnlig spillefilmframvi...</td>\n",
       "      <td>Avstand til nærmeste lokale/sted</td>\n",
       "      <td>2004</td>\n",
       "      <td>11</td>\n",
       "    </tr>\n",
       "    <tr>\n",
       "      <th>...</th>\n",
       "      <td>...</td>\n",
       "      <td>...</td>\n",
       "      <td>...</td>\n",
       "      <td>...</td>\n",
       "      <td>...</td>\n",
       "    </tr>\n",
       "    <tr>\n",
       "      <th>427</th>\n",
       "      <td>50 km eller over</td>\n",
       "      <td>Bokhandel</td>\n",
       "      <td>Avstand til nærmeste lokale/sted</td>\n",
       "      <td>2004</td>\n",
       "      <td>3</td>\n",
       "    </tr>\n",
       "    <tr>\n",
       "      <th>428</th>\n",
       "      <td>50 km eller over</td>\n",
       "      <td>Bokhandel</td>\n",
       "      <td>Avstand til nærmeste lokale/sted</td>\n",
       "      <td>2008</td>\n",
       "      <td>3</td>\n",
       "    </tr>\n",
       "    <tr>\n",
       "      <th>429</th>\n",
       "      <td>50 km eller over</td>\n",
       "      <td>Bokhandel</td>\n",
       "      <td>Avstand til nærmeste lokale/sted</td>\n",
       "      <td>2012</td>\n",
       "      <td>3</td>\n",
       "    </tr>\n",
       "    <tr>\n",
       "      <th>430</th>\n",
       "      <td>50 km eller over</td>\n",
       "      <td>Bokhandel</td>\n",
       "      <td>Avstand til nærmeste lokale/sted</td>\n",
       "      <td>2016</td>\n",
       "      <td>2</td>\n",
       "    </tr>\n",
       "    <tr>\n",
       "      <th>431</th>\n",
       "      <td>50 km eller over</td>\n",
       "      <td>Bokhandel</td>\n",
       "      <td>Avstand til nærmeste lokale/sted</td>\n",
       "      <td>2021</td>\n",
       "      <td>&lt;NA&gt;</td>\n",
       "    </tr>\n",
       "  </tbody>\n",
       "</table>\n",
       "<p>432 rows × 5 columns</p>\n",
       "</div>"
      ],
      "text/plain": [
       "              avstand                                       kulturtilbud  \\\n",
       "0          Under 1 km  Kino eller lokale med jevnlig spillefilmframvi...   \n",
       "1          Under 1 km  Kino eller lokale med jevnlig spillefilmframvi...   \n",
       "2          Under 1 km  Kino eller lokale med jevnlig spillefilmframvi...   \n",
       "3          Under 1 km  Kino eller lokale med jevnlig spillefilmframvi...   \n",
       "4          Under 1 km  Kino eller lokale med jevnlig spillefilmframvi...   \n",
       "..                ...                                                ...   \n",
       "427  50 km eller over                                          Bokhandel   \n",
       "428  50 km eller over                                          Bokhandel   \n",
       "429  50 km eller over                                          Bokhandel   \n",
       "430  50 km eller over                                          Bokhandel   \n",
       "431  50 km eller over                                          Bokhandel   \n",
       "\n",
       "                   statistikkvariabel    år  value  \n",
       "0    Avstand til nærmeste lokale/sted  1991     16  \n",
       "1    Avstand til nærmeste lokale/sted  1994     14  \n",
       "2    Avstand til nærmeste lokale/sted  1997     12  \n",
       "3    Avstand til nærmeste lokale/sted  2000     12  \n",
       "4    Avstand til nærmeste lokale/sted  2004     11  \n",
       "..                                ...   ...    ...  \n",
       "427  Avstand til nærmeste lokale/sted  2004      3  \n",
       "428  Avstand til nærmeste lokale/sted  2008      3  \n",
       "429  Avstand til nærmeste lokale/sted  2012      3  \n",
       "430  Avstand til nærmeste lokale/sted  2016      2  \n",
       "431  Avstand til nærmeste lokale/sted  2021   <NA>  \n",
       "\n",
       "[432 rows x 5 columns]"
      ]
     },
     "execution_count": 9,
     "metadata": {},
     "output_type": "execute_result"
    }
   ],
   "source": [
    "apidata_all(\"05300\")"
   ]
  },
  {
   "cell_type": "code",
   "execution_count": null,
   "id": "e165a591-3707-400c-bfc3-2eec403bc8d0",
   "metadata": {},
   "outputs": [],
   "source": []
  }
 ],
 "metadata": {
  "kernelspec": {
   "display_name": "Python 3 (ipykernel)",
   "language": "python",
   "name": "python3"
  },
  "language_info": {
   "codemirror_mode": {
    "name": "ipython",
    "version": 3
   },
   "file_extension": ".py",
   "mimetype": "text/x-python",
   "name": "python",
   "nbconvert_exporter": "python",
   "pygments_lexer": "ipython3",
   "version": "3.10.6"
  }
 },
 "nbformat": 4,
 "nbformat_minor": 5
}
