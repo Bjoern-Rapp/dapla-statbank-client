{
 "cells": [
  {
   "cell_type": "code",
   "execution_count": null,
   "id": "6606ec68-0265-4253-9a58-31fdecf5653d",
   "metadata": {},
   "outputs": [],
   "source": [
    "import pandas as pd\n",
    "import datetime\n",
    "import os\n",
    "orig_dir = os.getcwd()\n",
    "os.chdir(\"../\")"
   ]
  },
  {
   "cell_type": "code",
   "execution_count": null,
   "id": "081458be-32f3-4675-9838-3ee7e593a631",
   "metadata": {},
   "outputs": [],
   "source": [
    "from statbank import StatbankClient\n",
    "os.chdir(orig_dir)"
   ]
  },
  {
   "cell_type": "markdown",
   "id": "d843bc4e-2703-4563-b539-4e7ca4e7b7c8",
   "metadata": {},
   "source": [
    "### Opprett client"
   ]
  },
  {
   "cell_type": "code",
   "execution_count": null,
   "id": "e03529d8-b5a4-493c-87a9-5f7f7d00e1a6",
   "metadata": {},
   "outputs": [],
   "source": [
    "client = StatbankClient(loaduser = \"\")"
   ]
  },
  {
   "cell_type": "code",
   "execution_count": null,
   "id": "78c38f09-4568-47dc-b5ea-3b98c2acaaab",
   "metadata": {
    "tags": []
   },
   "outputs": [],
   "source": [
    "date = client.date_picker()"
   ]
  },
  {
   "cell_type": "code",
   "execution_count": null,
   "id": "f1839c0a-5b71-4bb9-858a-84f72ddc97a1",
   "metadata": {
    "tags": []
   },
   "outputs": [],
   "source": [
    "client.set_publish_date(date)"
   ]
  },
  {
   "cell_type": "markdown",
   "id": "0b4e2d60-7663-4340-923e-2e066ad60ea6",
   "metadata": {},
   "source": [
    "### Hent filbeskrivelse"
   ]
  },
  {
   "cell_type": "code",
   "execution_count": null,
   "id": "8083dc46-e66e-45d7-b107-83678b5ce4f2",
   "metadata": {
    "tags": []
   },
   "outputs": [],
   "source": [
    "filbeskrivelse = client.get_description(tableid=\"06339\")"
   ]
  },
  {
   "cell_type": "code",
   "execution_count": null,
   "id": "5c63b597-545e-41b7-a24f-346b07b755ed",
   "metadata": {},
   "outputs": [],
   "source": [
    "filbeskrivelser = client.get_description_batch(tableids=[\"06339\", \"05300\"])"
   ]
  },
  {
   "cell_type": "code",
   "execution_count": null,
   "id": "55a09674-6c2c-438c-bcaf-1bc95d33a08c",
   "metadata": {},
   "outputs": [],
   "source": [
    "print(filbeskrivelser[\"05300\"])"
   ]
  },
  {
   "cell_type": "markdown",
   "id": "c6d6daea-48fb-4390-bc75-25e98dace1ff",
   "metadata": {},
   "source": [
    "### Konstruer data"
   ]
  },
  {
   "cell_type": "code",
   "execution_count": null,
   "id": "e173ee56-578d-4536-8c6b-dabb93345b78",
   "metadata": {},
   "outputs": [],
   "source": [
    "dfs_06339 = pd.read_parquet(\"06339_statbank.parquet.gzip\")\n",
    "type(dfs_06339)"
   ]
  },
  {
   "cell_type": "code",
   "execution_count": null,
   "id": "da24a723-c440-4c53-89cc-db468fa5c74f",
   "metadata": {},
   "outputs": [],
   "source": [
    "dfs_05300 = pd.read_parquet(\"05300_statbank.parquet.gzip\")\n",
    "type(dfs_05300)"
   ]
  },
  {
   "cell_type": "markdown",
   "id": "e0735b6e-c1eb-47dc-89e6-565102205050",
   "metadata": {},
   "source": [
    "### Valider data"
   ]
  },
  {
   "cell_type": "code",
   "execution_count": null,
   "id": "8b2d3853-92c6-4e9e-b24f-4df5f7d9b765",
   "metadata": {},
   "outputs": [],
   "source": [
    "client.validate(dfs_06339, \"06339\")"
   ]
  },
  {
   "cell_type": "code",
   "execution_count": null,
   "id": "09cfb5f9-9919-42e7-ad71-42da7431a9a1",
   "metadata": {},
   "outputs": [],
   "source": [
    "client.validate_batch({\n",
    "    \"06339\": dfs_06339,\n",
    "    \"05300\": dfs_05300, \n",
    "})"
   ]
  },
  {
   "cell_type": "code",
   "execution_count": null,
   "id": "053ec34b-cd7b-41ec-ae14-7633d80cfe62",
   "metadata": {},
   "outputs": [],
   "source": [
    "# Forbedringsforslag å slå opp disse?\n",
    "for koder in filbeskrivelser[\"05300\"].kodelister:\n",
    "    print(koder['kodeliste'])\n",
    "    for kode in koder['koder']:\n",
    "        print(kode[\"kode\"], kode[\"text\"])\n",
    "    print()"
   ]
  },
  {
   "cell_type": "markdown",
   "id": "9ba4cbec-76c1-46d2-afb0-84f9756c3927",
   "metadata": {},
   "source": [
    "### Transfer data"
   ]
  },
  {
   "cell_type": "code",
   "execution_count": null,
   "id": "60891453-7293-492f-8004-3eccb6a9741c",
   "metadata": {},
   "outputs": [],
   "source": [
    "transfer = client.transfer(dfs_06339, \"06339\")"
   ]
  },
  {
   "cell_type": "code",
   "execution_count": null,
   "id": "03d2e4e8-0450-40bb-b3e5-f3c0d74d1ade",
   "metadata": {},
   "outputs": [],
   "source": [
    "print(transfer)"
   ]
  },
  {
   "cell_type": "code",
   "execution_count": null,
   "id": "7db97ab6-4667-4dfb-98f0-50a56a8926ff",
   "metadata": {},
   "outputs": [],
   "source": [
    "# Vent litt, ellers kræsjer den med forrige overføring\n",
    "transfer_batch = client.transfer_batch({\n",
    "    \"06339\": dfs_06339,\n",
    "    \"05300\": dfs_05300,\n",
    "})"
   ]
  },
  {
   "cell_type": "code",
   "execution_count": null,
   "id": "7e1bdb4a-ae16-4e2e-bfd4-9faf05dafe45",
   "metadata": {},
   "outputs": [],
   "source": [
    "for transfer in transfer_batch.values():\n",
    "    print(repr(transfer))"
   ]
  },
  {
   "cell_type": "markdown",
   "id": "0d8ab0cf-a9dc-488b-acac-557aabb5641f",
   "metadata": {},
   "source": [
    "### Logging"
   ]
  },
  {
   "cell_type": "code",
   "execution_count": null,
   "id": "d2beadce-8bce-4205-832d-f8f24bd824f3",
   "metadata": {},
   "outputs": [],
   "source": [
    "print(client)"
   ]
  },
  {
   "cell_type": "code",
   "execution_count": null,
   "id": "733aa201-1c84-4d3f-9050-9a676d976b59",
   "metadata": {},
   "outputs": [],
   "source": [
    "client.log"
   ]
  }
 ],
 "metadata": {
  "language_info": {
   "codemirror_mode": {
    "name": "ipython"
   },
   "file_extension": ".py",
   "mimetype": "text/x-python",
   "name": "python",
   "nbconvert_exporter": "python"
  }
 },
 "nbformat": 4,
 "nbformat_minor": 5
}
