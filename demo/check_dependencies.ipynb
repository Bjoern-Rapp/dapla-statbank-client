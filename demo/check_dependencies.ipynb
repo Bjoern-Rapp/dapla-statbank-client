{
 "cells": [
  {
   "cell_type": "code",
   "execution_count": null,
   "id": "5b9be24e-cfe6-4d48-9808-423207642652",
   "metadata": {
    "tags": []
   },
   "outputs": [],
   "source": [
    "import pandas\n",
    "\n",
    "pandas.__version__\n",
    "#\"^1.5.0\""
   ]
  },
  {
   "cell_type": "code",
   "execution_count": null,
   "id": "a8051dd8-a4bc-4f13-983f-2342009b3cc5",
   "metadata": {
    "tags": []
   },
   "outputs": [],
   "source": [
    "import dapla\n",
    "\n",
    "dapla.__version__\n",
    "#\"^1.3.3\""
   ]
  },
  {
   "cell_type": "code",
   "execution_count": null,
   "id": "7192e983-2609-4fb6-9858-84005065b50c",
   "metadata": {
    "tags": []
   },
   "outputs": [],
   "source": [
    "import requests\n",
    "\n",
    "requests.__version__\n",
    "#\"^2.28.1\""
   ]
  },
  {
   "cell_type": "code",
   "execution_count": null,
   "id": "be587af7-5475-428d-8ad1-57da5bd14d5e",
   "metadata": {
    "tags": []
   },
   "outputs": [],
   "source": [
    "import ipywidgets\n",
    "\n",
    "ipywidgets.__version__\n",
    "#^8.0.2\""
   ]
  },
  {
   "cell_type": "code",
   "execution_count": null,
   "id": "f4f439cb-c01b-46a6-bdcc-c978269137ef",
   "metadata": {
    "tags": []
   },
   "outputs": [],
   "source": [
    "import IPython\n",
    "\n",
    "IPython.__version__\n",
    "#\"^8.5.0\""
   ]
  },
  {
   "cell_type": "code",
   "execution_count": null,
   "id": "ff76a8a0-78ba-407b-ae45-fb7f6d3d7c3e",
   "metadata": {
    "tags": []
   },
   "outputs": [],
   "source": [
    "import pyjstat\n",
    "\n",
    "pyjstat.__version__\n",
    "#\"^2.4.0\""
   ]
  }
 ],
 "metadata": {
  "language_info": {
   "codemirror_mode": {
    "name": "ipython"
   },
   "file_extension": ".py",
   "mimetype": "text/x-python",
   "name": "python",
   "nbconvert_exporter": "python"
  }
 },
 "nbformat": 4,
 "nbformat_minor": 5
}
